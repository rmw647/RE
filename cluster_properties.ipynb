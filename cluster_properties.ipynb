{
 "cells": [
  {
   "cell_type": "markdown",
   "metadata": {},
   "source": [
    "### Grouping Similiar Properties\n",
    "\n",
    "<div class=\"alert alert-block alert-info\">\n",
    "**Goal:** Using a synthetic, low-dimensional data set, cluster similiar properties<br>\n",
    "\n",
    "**Method:** \n",
    "1. Develop a three dimensional property data set for testing purposes. Intentionally incorporate similar and dissimilar properties. Use only three dimensions so that results can be graphically visualized.\n",
    "2. Run a k-prototype clustering algorithm to cluster like properties. Test k values ranging from 2-6.\n",
    "3. Visualize results using plotly.\n",
    "4. When comfortable with this toy example, expand synthetic dataset to include more dimensions, and repeat analysis."
   ]
  },
  {
   "cell_type": "code",
   "execution_count": 1,
   "metadata": {
    "collapsed": false
   },
   "outputs": [],
   "source": [
    "from plotly.offline import download_plotlyjs, init_notebook_mode, plot, iplot\n",
    "import numpy as np\n",
    "from kmodes.kprototypes import KPrototypes\n",
    "import plotly.plotly as py\n",
    "import plotly.graph_objs as go\n",
    "from plotly import tools\n",
    "import pandas as pd"
   ]
  },
  {
   "cell_type": "code",
   "execution_count": 2,
   "metadata": {
    "collapsed": false
   },
   "outputs": [
    {
     "data": {
      "text/html": [
       "<script>requirejs.config({paths: { 'plotly': ['https://cdn.plot.ly/plotly-latest.min']},});if(!window.Plotly) {{require(['plotly'],function(plotly) {window.Plotly=plotly;});}}</script>"
      ],
      "text/vnd.plotly.v1+html": [
       "<script>requirejs.config({paths: { 'plotly': ['https://cdn.plot.ly/plotly-latest.min']},});if(!window.Plotly) {{require(['plotly'],function(plotly) {window.Plotly=plotly;});}}</script>"
      ]
     },
     "metadata": {},
     "output_type": "display_data"
    }
   ],
   "source": [
    "init_notebook_mode(connected=True)"
   ]
  },
  {
   "cell_type": "markdown",
   "metadata": {},
   "source": [
    "### Import the dataset and format"
   ]
  },
  {
   "cell_type": "code",
   "execution_count": 3,
   "metadata": {
    "collapsed": false
   },
   "outputs": [
    {
     "data": {
      "text/html": [
       "<div>\n",
       "<table border=\"1\" class=\"dataframe\">\n",
       "  <thead>\n",
       "    <tr style=\"text-align: right;\">\n",
       "      <th></th>\n",
       "      <th>Property</th>\n",
       "      <th>Manager</th>\n",
       "      <th>IRR</th>\n",
       "      <th>Location</th>\n",
       "    </tr>\n",
       "  </thead>\n",
       "  <tbody>\n",
       "    <tr>\n",
       "      <th>0</th>\n",
       "      <td>PropertyA</td>\n",
       "      <td>ManagerA</td>\n",
       "      <td>7.2</td>\n",
       "      <td>SW</td>\n",
       "    </tr>\n",
       "    <tr>\n",
       "      <th>1</th>\n",
       "      <td>PropertyB</td>\n",
       "      <td>ManagerA</td>\n",
       "      <td>7.3</td>\n",
       "      <td>SW</td>\n",
       "    </tr>\n",
       "    <tr>\n",
       "      <th>2</th>\n",
       "      <td>PropertyC</td>\n",
       "      <td>ManagerB</td>\n",
       "      <td>4.2</td>\n",
       "      <td>NE</td>\n",
       "    </tr>\n",
       "    <tr>\n",
       "      <th>3</th>\n",
       "      <td>PropertyD</td>\n",
       "      <td>ManagerA</td>\n",
       "      <td>4.2</td>\n",
       "      <td>NW</td>\n",
       "    </tr>\n",
       "    <tr>\n",
       "      <th>4</th>\n",
       "      <td>PropertyE</td>\n",
       "      <td>ManagerC</td>\n",
       "      <td>6.7</td>\n",
       "      <td>NW</td>\n",
       "    </tr>\n",
       "    <tr>\n",
       "      <th>5</th>\n",
       "      <td>PropertyF</td>\n",
       "      <td>ManagerC</td>\n",
       "      <td>6.5</td>\n",
       "      <td>NE</td>\n",
       "    </tr>\n",
       "    <tr>\n",
       "      <th>6</th>\n",
       "      <td>PropertyG</td>\n",
       "      <td>ManagerD</td>\n",
       "      <td>7.2</td>\n",
       "      <td>SW</td>\n",
       "    </tr>\n",
       "    <tr>\n",
       "      <th>7</th>\n",
       "      <td>PropertyH</td>\n",
       "      <td>ManagerA</td>\n",
       "      <td>6.5</td>\n",
       "      <td>SE</td>\n",
       "    </tr>\n",
       "    <tr>\n",
       "      <th>8</th>\n",
       "      <td>PropertyI</td>\n",
       "      <td>ManagerD</td>\n",
       "      <td>5.0</td>\n",
       "      <td>SE</td>\n",
       "    </tr>\n",
       "    <tr>\n",
       "      <th>9</th>\n",
       "      <td>PropertyJ</td>\n",
       "      <td>ManagerD</td>\n",
       "      <td>5.3</td>\n",
       "      <td>SE</td>\n",
       "    </tr>\n",
       "    <tr>\n",
       "      <th>10</th>\n",
       "      <td>PropertyK</td>\n",
       "      <td>ManagerE</td>\n",
       "      <td>7.0</td>\n",
       "      <td>N</td>\n",
       "    </tr>\n",
       "  </tbody>\n",
       "</table>\n",
       "</div>"
      ],
      "text/plain": [
       "     Property   Manager  IRR Location\n",
       "0   PropertyA  ManagerA  7.2       SW\n",
       "1   PropertyB  ManagerA  7.3       SW\n",
       "2   PropertyC  ManagerB  4.2       NE\n",
       "3   PropertyD  ManagerA  4.2       NW\n",
       "4   PropertyE  ManagerC  6.7       NW\n",
       "5   PropertyF  ManagerC  6.5       NE\n",
       "6   PropertyG  ManagerD  7.2       SW\n",
       "7   PropertyH  ManagerA  6.5       SE\n",
       "8   PropertyI  ManagerD  5.0       SE\n",
       "9   PropertyJ  ManagerD  5.3       SE\n",
       "10  PropertyK  ManagerE  7.0        N"
      ]
     },
     "execution_count": 3,
     "metadata": {},
     "output_type": "execute_result"
    }
   ],
   "source": [
    "prop_file = '/Users/rebeccaward/Documents/professional/Levinson-consulting/toy-data/syn_prop_data.csv'\n",
    "\n",
    "# read in and pretty up for printing\n",
    "data = pd.read_csv(prop_file,usecols=[0,1,2,3])\n",
    "\n",
    "# import property data and format for clustering\n",
    "syms = np.genfromtxt(prop_file,dtype=str, delimiter=',',skip_header=1)[:,0]\n",
    "\n",
    "# the rest of the data\n",
    "X = np.genfromtxt(prop_file, dtype=object, delimiter=',',skip_header=1,usecols=(0,1,2,3))[:, 1:]\n",
    "\n",
    "#make numeric data floats\n",
    "X[:, 1] = X[:, 1].astype(float)\n",
    "\n",
    "data"
   ]
  },
  {
   "cell_type": "markdown",
   "metadata": {},
   "source": [
    "### Plot raw data"
   ]
  },
  {
   "cell_type": "code",
   "execution_count": 4,
   "metadata": {
    "collapsed": false
   },
   "outputs": [
    {
     "data": {
      "application/vnd.plotly.v1+json": {
       "data": [
        {
         "marker": {
          "opacity": 0.8
         },
         "mode": "markers",
         "type": "scatter3d",
         "x": [
          3,
          3,
          2,
          3,
          1,
          1,
          4,
          3,
          4,
          4,
          0
         ],
         "y": [
          7.2,
          7.3,
          4.2,
          4.2,
          6.7,
          6.5,
          7.2,
          6.5,
          5,
          5.3,
          7
         ],
         "z": [
          3,
          3,
          0,
          2,
          2,
          0,
          3,
          1,
          1,
          1,
          4
         ]
        }
       ],
       "layout": {
        "scene": {
         "xaxis": {
          "title": "Manager"
         },
         "yaxis": {
          "title": "IRR"
         },
         "zaxis": {
          "title": "Location"
         }
        }
       }
      },
      "text/html": [
       "<div id=\"8a8caa57-a207-4d60-b8ae-56fa283a6a1d\" style=\"height: 525px; width: 100%;\" class=\"plotly-graph-div\"></div><script type=\"text/javascript\">require([\"plotly\"], function(Plotly) { window.PLOTLYENV=window.PLOTLYENV || {};window.PLOTLYENV.BASE_URL=\"https://plot.ly\";Plotly.newPlot(\"8a8caa57-a207-4d60-b8ae-56fa283a6a1d\", [{\"x\": [3, 3, 2, 3, 1, 1, 4, 3, 4, 4, 0], \"marker\": {\"opacity\": 0.8}, \"z\": [3, 3, 0, 2, 2, 0, 3, 1, 1, 1, 4], \"mode\": \"markers\", \"y\": [7.2, 7.3, 4.2, 4.2, 6.7, 6.5, 7.2, 6.5, 5.0, 5.3, 7.0], \"type\": \"scatter3d\"}], {\"scene\": {\"xaxis\": {\"title\": \"Manager\"}, \"yaxis\": {\"title\": \"IRR\"}, \"zaxis\": {\"title\": \"Location\"}}}, {\"showLink\": true, \"linkText\": \"Export to plot.ly\"})});</script>"
      ],
      "text/vnd.plotly.v1+html": [
       "<div id=\"8a8caa57-a207-4d60-b8ae-56fa283a6a1d\" style=\"height: 525px; width: 100%;\" class=\"plotly-graph-div\"></div><script type=\"text/javascript\">require([\"plotly\"], function(Plotly) { window.PLOTLYENV=window.PLOTLYENV || {};window.PLOTLYENV.BASE_URL=\"https://plot.ly\";Plotly.newPlot(\"8a8caa57-a207-4d60-b8ae-56fa283a6a1d\", [{\"x\": [3, 3, 2, 3, 1, 1, 4, 3, 4, 4, 0], \"marker\": {\"opacity\": 0.8}, \"z\": [3, 3, 0, 2, 2, 0, 3, 1, 1, 1, 4], \"mode\": \"markers\", \"y\": [7.2, 7.3, 4.2, 4.2, 6.7, 6.5, 7.2, 6.5, 5.0, 5.3, 7.0], \"type\": \"scatter3d\"}], {\"scene\": {\"xaxis\": {\"title\": \"Manager\"}, \"yaxis\": {\"title\": \"IRR\"}, \"zaxis\": {\"title\": \"Location\"}}}, {\"showLink\": true, \"linkText\": \"Export to plot.ly\"})});</script>"
      ]
     },
     "metadata": {},
     "output_type": "display_data"
    }
   ],
   "source": [
    "# dict to convert cat to number for plotting\n",
    "# switch key, value in dict to get cat data as keys\n",
    "temp = dict(enumerate(set(X[:,0])))\n",
    "managers = {v:k for k,v in temp.items()}\n",
    "temp= dict(enumerate(set(X[:,2])))\n",
    "locations = {v:k for k,v in temp.items()}\n",
    "\n",
    "# plot synthetic data\n",
    "trace = go.Scatter3d(\n",
    "    x = [managers[k] for k in X[:,0]],\n",
    "    y = X[:,1],\n",
    "    z = [locations[k] for k in X[:,2]],\n",
    "    mode = 'markers',\n",
    "    marker=dict(opacity=0.8),\n",
    ")\n",
    "\n",
    "layout = go.Layout(\n",
    "            scene = dict(\n",
    "                xaxis = dict(\n",
    "                    title='Manager'),\n",
    "                    yaxis = dict(\n",
    "                        title='IRR'),\n",
    "                    zaxis = dict(\n",
    "                        title='Location'),),\n",
    "                  )\n",
    "\n",
    "fig = go.Figure(data=[trace], layout=layout)\n",
    "iplot(fig, filename = 'cluster')"
   ]
  },
  {
   "cell_type": "markdown",
   "metadata": {},
   "source": [
    "### Perform k-prototype clustering\n",
    "\n",
    "K-prototype clustering is an adaptation of the more common k-means clustering. This adaptation allows for mixed datasets with both categorical and numerical data, and we can expect most of our datasets to be. It scales well to large datasets, although that will likely not be a factor for us."
   ]
  },
  {
   "cell_type": "code",
   "execution_count": 5,
   "metadata": {
    "collapsed": false
   },
   "outputs": [
    {
     "name": "stdout",
     "output_type": "stream",
     "text": [
      "Symbol: PropertyA, cluster:0\n",
      "Symbol: PropertyB, cluster:0\n",
      "Symbol: PropertyC, cluster:3\n",
      "Symbol: PropertyD, cluster:3\n",
      "Symbol: PropertyE, cluster:2\n",
      "Symbol: PropertyF, cluster:2\n",
      "Symbol: PropertyG, cluster:0\n",
      "Symbol: PropertyH, cluster:1\n",
      "Symbol: PropertyI, cluster:3\n",
      "Symbol: PropertyJ, cluster:3\n",
      "Symbol: PropertyK, cluster:2\n"
     ]
    }
   ],
   "source": [
    "training_stats = 0 # set to 1 for training stat output\n",
    "\n",
    "kproto = KPrototypes(n_clusters=4, init='Cao', verbose=0)\n",
    "clusters = kproto.fit_predict(X, categorical=[0, 2])\n",
    "\n",
    "if training_stats == 1:\n",
    "    # Print cluster centroids of the trained model.\n",
    "    print(kproto.cluster_centroids_)\n",
    "    # Print training statistics\n",
    "    print(kproto.cost_)\n",
    "    print(kproto.n_iter_)\n",
    "\n",
    "for s, c in zip(syms, clusters):\n",
    "    print(\"Symbol: {}, cluster:{}\".format(s, c))"
   ]
  },
  {
   "cell_type": "markdown",
   "metadata": {},
   "source": [
    "### Plot clusters"
   ]
  },
  {
   "cell_type": "code",
   "execution_count": 6,
   "metadata": {
    "collapsed": false
   },
   "outputs": [
    {
     "data": {
      "application/vnd.plotly.v1+json": {
       "data": [
        {
         "marker": {
          "color": [
           0,
           0,
           3,
           3,
           2,
           2,
           0,
           1,
           3,
           3,
           2
          ],
          "opacity": 0.8
         },
         "mode": "markers",
         "type": "scatter3d",
         "x": [
          3,
          3,
          2,
          3,
          1,
          1,
          4,
          3,
          4,
          4,
          0
         ],
         "y": [
          7.2,
          7.3,
          4.2,
          4.2,
          6.7,
          6.5,
          7.2,
          6.5,
          5,
          5.3,
          7
         ],
         "z": [
          3,
          3,
          0,
          2,
          2,
          0,
          3,
          1,
          1,
          1,
          4
         ]
        }
       ],
       "layout": {
        "scene": {
         "xaxis": {
          "title": "Manager"
         },
         "yaxis": {
          "title": "IRR"
         },
         "zaxis": {
          "title": "Location"
         }
        }
       }
      },
      "text/html": [
       "<div id=\"dddc1180-91d7-4959-85ab-d53f72773a72\" style=\"height: 525px; width: 100%;\" class=\"plotly-graph-div\"></div><script type=\"text/javascript\">require([\"plotly\"], function(Plotly) { window.PLOTLYENV=window.PLOTLYENV || {};window.PLOTLYENV.BASE_URL=\"https://plot.ly\";Plotly.newPlot(\"dddc1180-91d7-4959-85ab-d53f72773a72\", [{\"x\": [3, 3, 2, 3, 1, 1, 4, 3, 4, 4, 0], \"marker\": {\"opacity\": 0.8, \"color\": [0, 0, 3, 3, 2, 2, 0, 1, 3, 3, 2]}, \"z\": [3, 3, 0, 2, 2, 0, 3, 1, 1, 1, 4], \"mode\": \"markers\", \"y\": [7.2, 7.3, 4.2, 4.2, 6.7, 6.5, 7.2, 6.5, 5.0, 5.3, 7.0], \"type\": \"scatter3d\"}], {\"scene\": {\"xaxis\": {\"title\": \"Manager\"}, \"yaxis\": {\"title\": \"IRR\"}, \"zaxis\": {\"title\": \"Location\"}}}, {\"showLink\": true, \"linkText\": \"Export to plot.ly\"})});</script>"
      ],
      "text/vnd.plotly.v1+html": [
       "<div id=\"dddc1180-91d7-4959-85ab-d53f72773a72\" style=\"height: 525px; width: 100%;\" class=\"plotly-graph-div\"></div><script type=\"text/javascript\">require([\"plotly\"], function(Plotly) { window.PLOTLYENV=window.PLOTLYENV || {};window.PLOTLYENV.BASE_URL=\"https://plot.ly\";Plotly.newPlot(\"dddc1180-91d7-4959-85ab-d53f72773a72\", [{\"x\": [3, 3, 2, 3, 1, 1, 4, 3, 4, 4, 0], \"marker\": {\"opacity\": 0.8, \"color\": [0, 0, 3, 3, 2, 2, 0, 1, 3, 3, 2]}, \"z\": [3, 3, 0, 2, 2, 0, 3, 1, 1, 1, 4], \"mode\": \"markers\", \"y\": [7.2, 7.3, 4.2, 4.2, 6.7, 6.5, 7.2, 6.5, 5.0, 5.3, 7.0], \"type\": \"scatter3d\"}], {\"scene\": {\"xaxis\": {\"title\": \"Manager\"}, \"yaxis\": {\"title\": \"IRR\"}, \"zaxis\": {\"title\": \"Location\"}}}, {\"showLink\": true, \"linkText\": \"Export to plot.ly\"})});</script>"
      ]
     },
     "metadata": {},
     "output_type": "display_data"
    }
   ],
   "source": [
    "# plot clustered data\n",
    "trace = go.Scatter3d(\n",
    "    x = [managers[k] for k in X[:,0]],\n",
    "    y = X[:,1],\n",
    "    z = [locations[k] for k in X[:,2]],\n",
    "    mode = 'markers',\n",
    "    marker=dict(\n",
    "            dict(color=clusters),\n",
    "            opacity=0.8),\n",
    ")\n",
    "\n",
    "layout = go.Layout(\n",
    "            scene = dict(\n",
    "                xaxis = dict(\n",
    "                    title='Manager'),\n",
    "                    yaxis = dict(\n",
    "                        title='IRR'),\n",
    "                    zaxis = dict(\n",
    "                        title='Location'),),\n",
    "                  )\n",
    "\n",
    "fig = go.Figure(data=[trace], layout=layout)\n",
    "iplot(fig, filename = 'cluster')"
   ]
  },
  {
   "cell_type": "markdown",
   "metadata": {},
   "source": [
    "### Side-by-side with different number of clusters"
   ]
  },
  {
   "cell_type": "code",
   "execution_count": 7,
   "metadata": {
    "collapsed": false
   },
   "outputs": [],
   "source": [
    "cluster_list = []\n",
    "for num_clusters in range(2,7):\n",
    "    kproto = KPrototypes(n_clusters=num_clusters, init='Cao', verbose=0)\n",
    "    cluster_list.append(kproto.fit_predict(X, categorical=[0, 2]))\n",
    "    \n"
   ]
  },
  {
   "cell_type": "code",
   "execution_count": 9,
   "metadata": {
    "collapsed": false
   },
   "outputs": [
    {
     "name": "stdout",
     "output_type": "stream",
     "text": [
      "This is the format of your plot grid:\n",
      "[ (1,1) scene1 ]  [ (1,2) scene2 ]\n",
      "[ (2,1) scene3 ]  [ (2,2) scene4 ]\n",
      "[ (3,1) scene5 ]  [ (3,2) scene6 ]\n",
      "\n"
     ]
    },
    {
     "data": {
      "application/vnd.plotly.v1+json": {
       "data": [
        {
         "marker": {
          "color": [
           1,
           1,
           0,
           0,
           1,
           1,
           1,
           1,
           0,
           0,
           1
          ],
          "opacity": 0.8
         },
         "mode": "markers",
         "scene": "scene1",
         "type": "scatter3d",
         "x": [
          3,
          3,
          2,
          3,
          1,
          1,
          4,
          3,
          4,
          4,
          0
         ],
         "y": [
          7.2,
          7.3,
          4.2,
          4.2,
          6.7,
          6.5,
          7.2,
          6.5,
          5,
          5.3,
          7
         ],
         "z": [
          3,
          3,
          0,
          2,
          2,
          0,
          3,
          1,
          1,
          1,
          4
         ]
        },
        {
         "marker": {
          "color": [
           2,
           2,
           0,
           0,
           1,
           1,
           2,
           1,
           0,
           0,
           2
          ],
          "opacity": 0.8
         },
         "mode": "markers",
         "scene": "scene2",
         "type": "scatter3d",
         "x": [
          3,
          3,
          2,
          3,
          1,
          1,
          4,
          3,
          4,
          4,
          0
         ],
         "y": [
          7.2,
          7.3,
          4.2,
          4.2,
          6.7,
          6.5,
          7.2,
          6.5,
          5,
          5.3,
          7
         ],
         "z": [
          3,
          3,
          0,
          2,
          2,
          0,
          3,
          1,
          1,
          1,
          4
         ]
        },
        {
         "marker": {
          "color": [
           3,
           3,
           1,
           1,
           2,
           0,
           3,
           0,
           1,
           1,
           3
          ],
          "opacity": 0.8
         },
         "mode": "markers",
         "scene": "scene3",
         "type": "scatter3d",
         "x": [
          3,
          3,
          2,
          3,
          1,
          1,
          4,
          3,
          4,
          4,
          0
         ],
         "y": [
          7.2,
          7.3,
          4.2,
          4.2,
          6.7,
          6.5,
          7.2,
          6.5,
          5,
          5.3,
          7
         ],
         "z": [
          3,
          3,
          0,
          2,
          2,
          0,
          3,
          1,
          1,
          1,
          4
         ]
        },
        {
         "marker": {
          "color": [
           0,
           0,
           4,
           4,
           2,
           2,
           1,
           3,
           4,
           4,
           2
          ],
          "opacity": 0.8
         },
         "mode": "markers",
         "scene": "scene4",
         "type": "scatter3d",
         "x": [
          3,
          3,
          2,
          3,
          1,
          1,
          4,
          3,
          4,
          4,
          0
         ],
         "y": [
          7.2,
          7.3,
          4.2,
          4.2,
          6.7,
          6.5,
          7.2,
          6.5,
          5,
          5.3,
          7
         ],
         "z": [
          3,
          3,
          0,
          2,
          2,
          0,
          3,
          1,
          1,
          1,
          4
         ]
        },
        {
         "marker": {
          "color": [
           2,
           2,
           3,
           3,
           1,
           1,
           2,
           0,
           4,
           4,
           5
          ],
          "opacity": 0.8
         },
         "mode": "markers",
         "scene": "scene5",
         "type": "scatter3d",
         "x": [
          3,
          3,
          2,
          3,
          1,
          1,
          4,
          3,
          4,
          4,
          0
         ],
         "y": [
          7.2,
          7.3,
          4.2,
          4.2,
          6.7,
          6.5,
          7.2,
          6.5,
          5,
          5.3,
          7
         ],
         "z": [
          3,
          3,
          0,
          2,
          2,
          0,
          3,
          1,
          1,
          1,
          4
         ]
        }
       ],
       "layout": {
        "height": 1200,
        "scene1": {
         "domain": {
          "x": [
           0,
           0.45
          ],
          "y": [
           0.7333333333333333,
           1
          ]
         }
        },
        "scene2": {
         "domain": {
          "x": [
           0.55,
           1
          ],
          "y": [
           0.7333333333333333,
           1
          ]
         }
        },
        "scene3": {
         "domain": {
          "x": [
           0,
           0.45
          ],
          "y": [
           0.36666666666666664,
           0.6333333333333333
          ]
         }
        },
        "scene4": {
         "domain": {
          "x": [
           0.55,
           1
          ],
          "y": [
           0.36666666666666664,
           0.6333333333333333
          ]
         }
        },
        "scene5": {
         "domain": {
          "x": [
           0,
           0.45
          ],
          "y": [
           0,
           0.26666666666666666
          ]
         }
        },
        "scene6": {
         "domain": {
          "x": [
           0.55,
           1
          ],
          "y": [
           0,
           0.26666666666666666
          ]
         }
        },
        "title": "X-axis: Manager, Y-axis: IRR, Z-axis: Location",
        "width": 1000
       }
      },
      "text/html": [
       "<div id=\"ca7800c3-add4-4581-aa01-f9551a06440b\" style=\"height: 1200px; width: 1000px;\" class=\"plotly-graph-div\"></div><script type=\"text/javascript\">require([\"plotly\"], function(Plotly) { window.PLOTLYENV=window.PLOTLYENV || {};window.PLOTLYENV.BASE_URL=\"https://plot.ly\";Plotly.newPlot(\"ca7800c3-add4-4581-aa01-f9551a06440b\", [{\"x\": [3, 3, 2, 3, 1, 1, 4, 3, 4, 4, 0], \"marker\": {\"opacity\": 0.8, \"color\": [1, 1, 0, 0, 1, 1, 1, 1, 0, 0, 1]}, \"z\": [3, 3, 0, 2, 2, 0, 3, 1, 1, 1, 4], \"scene\": \"scene1\", \"mode\": \"markers\", \"y\": [7.2, 7.3, 4.2, 4.2, 6.7, 6.5, 7.2, 6.5, 5.0, 5.3, 7.0], \"type\": \"scatter3d\"}, {\"x\": [3, 3, 2, 3, 1, 1, 4, 3, 4, 4, 0], \"marker\": {\"opacity\": 0.8, \"color\": [2, 2, 0, 0, 1, 1, 2, 1, 0, 0, 2]}, \"z\": [3, 3, 0, 2, 2, 0, 3, 1, 1, 1, 4], \"scene\": \"scene2\", \"mode\": \"markers\", \"y\": [7.2, 7.3, 4.2, 4.2, 6.7, 6.5, 7.2, 6.5, 5.0, 5.3, 7.0], \"type\": \"scatter3d\"}, {\"x\": [3, 3, 2, 3, 1, 1, 4, 3, 4, 4, 0], \"marker\": {\"opacity\": 0.8, \"color\": [3, 3, 1, 1, 2, 0, 3, 0, 1, 1, 3]}, \"z\": [3, 3, 0, 2, 2, 0, 3, 1, 1, 1, 4], \"scene\": \"scene3\", \"mode\": \"markers\", \"y\": [7.2, 7.3, 4.2, 4.2, 6.7, 6.5, 7.2, 6.5, 5.0, 5.3, 7.0], \"type\": \"scatter3d\"}, {\"x\": [3, 3, 2, 3, 1, 1, 4, 3, 4, 4, 0], \"marker\": {\"opacity\": 0.8, \"color\": [0, 0, 4, 4, 2, 2, 1, 3, 4, 4, 2]}, \"z\": [3, 3, 0, 2, 2, 0, 3, 1, 1, 1, 4], \"scene\": \"scene4\", \"mode\": \"markers\", \"y\": [7.2, 7.3, 4.2, 4.2, 6.7, 6.5, 7.2, 6.5, 5.0, 5.3, 7.0], \"type\": \"scatter3d\"}, {\"x\": [3, 3, 2, 3, 1, 1, 4, 3, 4, 4, 0], \"marker\": {\"opacity\": 0.8, \"color\": [2, 2, 3, 3, 1, 1, 2, 0, 4, 4, 5]}, \"z\": [3, 3, 0, 2, 2, 0, 3, 1, 1, 1, 4], \"scene\": \"scene5\", \"mode\": \"markers\", \"y\": [7.2, 7.3, 4.2, 4.2, 6.7, 6.5, 7.2, 6.5, 5.0, 5.3, 7.0], \"type\": \"scatter3d\"}], {\"scene3\": {\"domain\": {\"x\": [0.0, 0.45], \"y\": [0.36666666666666664, 0.6333333333333333]}}, \"scene4\": {\"domain\": {\"x\": [0.55, 1.0], \"y\": [0.36666666666666664, 0.6333333333333333]}}, \"scene6\": {\"domain\": {\"x\": [0.55, 1.0], \"y\": [0.0, 0.26666666666666666]}}, \"scene2\": {\"domain\": {\"x\": [0.55, 1.0], \"y\": [0.7333333333333333, 1.0]}}, \"title\": \"X-axis: Manager, Y-axis: IRR, Z-axis: Location\", \"scene1\": {\"domain\": {\"x\": [0.0, 0.45], \"y\": [0.7333333333333333, 1.0]}}, \"height\": 1200, \"width\": 1000, \"scene5\": {\"domain\": {\"x\": [0.0, 0.45], \"y\": [0.0, 0.26666666666666666]}}}, {\"showLink\": true, \"linkText\": \"Export to plot.ly\"})});</script>"
      ],
      "text/vnd.plotly.v1+html": [
       "<div id=\"ca7800c3-add4-4581-aa01-f9551a06440b\" style=\"height: 1200px; width: 1000px;\" class=\"plotly-graph-div\"></div><script type=\"text/javascript\">require([\"plotly\"], function(Plotly) { window.PLOTLYENV=window.PLOTLYENV || {};window.PLOTLYENV.BASE_URL=\"https://plot.ly\";Plotly.newPlot(\"ca7800c3-add4-4581-aa01-f9551a06440b\", [{\"x\": [3, 3, 2, 3, 1, 1, 4, 3, 4, 4, 0], \"marker\": {\"opacity\": 0.8, \"color\": [1, 1, 0, 0, 1, 1, 1, 1, 0, 0, 1]}, \"z\": [3, 3, 0, 2, 2, 0, 3, 1, 1, 1, 4], \"scene\": \"scene1\", \"mode\": \"markers\", \"y\": [7.2, 7.3, 4.2, 4.2, 6.7, 6.5, 7.2, 6.5, 5.0, 5.3, 7.0], \"type\": \"scatter3d\"}, {\"x\": [3, 3, 2, 3, 1, 1, 4, 3, 4, 4, 0], \"marker\": {\"opacity\": 0.8, \"color\": [2, 2, 0, 0, 1, 1, 2, 1, 0, 0, 2]}, \"z\": [3, 3, 0, 2, 2, 0, 3, 1, 1, 1, 4], \"scene\": \"scene2\", \"mode\": \"markers\", \"y\": [7.2, 7.3, 4.2, 4.2, 6.7, 6.5, 7.2, 6.5, 5.0, 5.3, 7.0], \"type\": \"scatter3d\"}, {\"x\": [3, 3, 2, 3, 1, 1, 4, 3, 4, 4, 0], \"marker\": {\"opacity\": 0.8, \"color\": [3, 3, 1, 1, 2, 0, 3, 0, 1, 1, 3]}, \"z\": [3, 3, 0, 2, 2, 0, 3, 1, 1, 1, 4], \"scene\": \"scene3\", \"mode\": \"markers\", \"y\": [7.2, 7.3, 4.2, 4.2, 6.7, 6.5, 7.2, 6.5, 5.0, 5.3, 7.0], \"type\": \"scatter3d\"}, {\"x\": [3, 3, 2, 3, 1, 1, 4, 3, 4, 4, 0], \"marker\": {\"opacity\": 0.8, \"color\": [0, 0, 4, 4, 2, 2, 1, 3, 4, 4, 2]}, \"z\": [3, 3, 0, 2, 2, 0, 3, 1, 1, 1, 4], \"scene\": \"scene4\", \"mode\": \"markers\", \"y\": [7.2, 7.3, 4.2, 4.2, 6.7, 6.5, 7.2, 6.5, 5.0, 5.3, 7.0], \"type\": \"scatter3d\"}, {\"x\": [3, 3, 2, 3, 1, 1, 4, 3, 4, 4, 0], \"marker\": {\"opacity\": 0.8, \"color\": [2, 2, 3, 3, 1, 1, 2, 0, 4, 4, 5]}, \"z\": [3, 3, 0, 2, 2, 0, 3, 1, 1, 1, 4], \"scene\": \"scene5\", \"mode\": \"markers\", \"y\": [7.2, 7.3, 4.2, 4.2, 6.7, 6.5, 7.2, 6.5, 5.0, 5.3, 7.0], \"type\": \"scatter3d\"}], {\"scene3\": {\"domain\": {\"x\": [0.0, 0.45], \"y\": [0.36666666666666664, 0.6333333333333333]}}, \"scene4\": {\"domain\": {\"x\": [0.55, 1.0], \"y\": [0.36666666666666664, 0.6333333333333333]}}, \"scene6\": {\"domain\": {\"x\": [0.55, 1.0], \"y\": [0.0, 0.26666666666666666]}}, \"scene2\": {\"domain\": {\"x\": [0.55, 1.0], \"y\": [0.7333333333333333, 1.0]}}, \"title\": \"X-axis: Manager, Y-axis: IRR, Z-axis: Location\", \"scene1\": {\"domain\": {\"x\": [0.0, 0.45], \"y\": [0.7333333333333333, 1.0]}}, \"height\": 1200, \"width\": 1000, \"scene5\": {\"domain\": {\"x\": [0.0, 0.45], \"y\": [0.0, 0.26666666666666666]}}}, {\"showLink\": true, \"linkText\": \"Export to plot.ly\"})});</script>"
      ]
     },
     "metadata": {},
     "output_type": "display_data"
    }
   ],
   "source": [
    "# plot clustered data\n",
    "\n",
    "scene = dict(\n",
    "    xaxis=dict(\n",
    "        gridcolor='rgb(255, 255, 255)',\n",
    "        zerolinecolor='rgb(255, 255, 255)',\n",
    "        showbackground=True,\n",
    "        backgroundcolor='rgb(230, 230,230)'\n",
    "    ),\n",
    "    yaxis=dict(\n",
    "        gridcolor='rgb(255, 255, 255)',\n",
    "        zerolinecolor='rgb(255, 255, 255)',\n",
    "        showbackground=True,\n",
    "        backgroundcolor='rgb(230, 230,230)'\n",
    "    ),\n",
    "    zaxis=dict(\n",
    "        gridcolor='rgb(255, 255, 255)',\n",
    "        zerolinecolor='rgb(255, 255, 255)',\n",
    "        showbackground=True,\n",
    "        backgroundcolor='rgb(230, 230,230)'\n",
    "    )\n",
    ")\n",
    "\n",
    "trace1 = go.Scatter3d(\n",
    "    x = [managers[k] for k in X[:,0]],\n",
    "    y = X[:,1],\n",
    "    z = [locations[k] for k in X[:,2]],\n",
    "    mode = 'markers',\n",
    "    marker=dict(\n",
    "            dict(color=cluster_list[0]),\n",
    "            opacity=0.8),\n",
    ")\n",
    "trace2 = go.Scatter3d(\n",
    "    x = [managers[k] for k in X[:,0]],\n",
    "    y = X[:,1],\n",
    "    z = [locations[k] for k in X[:,2]],\n",
    "    mode = 'markers',\n",
    "    marker=dict(\n",
    "            dict(color=cluster_list[1]),\n",
    "            opacity=0.8),\n",
    ")\n",
    "trace3 = go.Scatter3d(\n",
    "    x = [managers[k] for k in X[:,0]],\n",
    "    y = X[:,1],\n",
    "    z = [locations[k] for k in X[:,2]],\n",
    "    mode = 'markers',\n",
    "    marker=dict(\n",
    "            dict(color=cluster_list[2]),\n",
    "            opacity=0.8),\n",
    ")\n",
    "trace4 = go.Scatter3d(\n",
    "    x = [managers[k] for k in X[:,0]],\n",
    "    y = X[:,1],\n",
    "    z = [locations[k] for k in X[:,2]],\n",
    "    mode = 'markers',\n",
    "    marker=dict(\n",
    "            dict(color=cluster_list[3]),\n",
    "            opacity=0.8),\n",
    ")\n",
    "trace5 = go.Scatter3d(\n",
    "    x = [managers[k] for k in X[:,0]],\n",
    "    y = X[:,1],\n",
    "    z = [locations[k] for k in X[:,2]],\n",
    "    mode = 'markers',\n",
    "    marker=dict(\n",
    "            dict(color=cluster_list[4]),\n",
    "            opacity=0.8),\n",
    ")\n",
    "\n",
    "fig = tools.make_subplots(rows=3, cols=2, \n",
    "                          specs=[[{'is_3d': True}, {'is_3d': True}],\n",
    "                                 [{'is_3d': True}, {'is_3d': True}],\n",
    "                                 [{'is_3d':True}, {'is_3d':True}]]\n",
    "                         )\n",
    "\n",
    "fig.append_trace(trace1, 1, 1)\n",
    "fig.append_trace(trace2, 1, 2)\n",
    "fig.append_trace(trace3, 2, 1)\n",
    "fig.append_trace(trace4, 2, 2)\n",
    "fig.append_trace(trace5, 3, 1)\n",
    "\n",
    "\n",
    "fig['layout'].update(height=1200, width=1000, title='X-axis: Manager, Y-axis: IRR, Z-axis: Location')\n",
    "iplot(fig, filename='clusters-many')"
   ]
  }
 ],
 "metadata": {
  "anaconda-cloud": {},
  "kernelspec": {
   "display_name": "Python [conda env:RE]",
   "language": "python",
   "name": "conda-env-RE-py"
  },
  "language_info": {
   "codemirror_mode": {
    "name": "ipython",
    "version": 3
   },
   "file_extension": ".py",
   "mimetype": "text/x-python",
   "name": "python",
   "nbconvert_exporter": "python",
   "pygments_lexer": "ipython3",
   "version": "3.4.5"
  }
 },
 "nbformat": 4,
 "nbformat_minor": 2
}
